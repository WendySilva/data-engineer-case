{
 "cells": [
  {
   "cell_type": "code",
   "execution_count": 0,
   "metadata": {
    "application/vnd.databricks.v1+cell": {
     "cellMetadata": {
      "byteLimit": 2048000,
      "rowLimit": 10000
     },
     "inputWidgets": {},
     "nuid": "73ba3d40-e473-43fa-890a-76558fb99d12",
     "showTitle": false,
     "tableResultSettingsMap": {},
     "title": ""
    }
   },
   "outputs": [],
   "source": [
    "import logging\n",
    "from src.data_analysis import DataAnalysis\n",
    "from src.save_data import SaveData\n",
    "\n",
    "\n",
    "def job(logger):\n",
    "    df = spark.table(\"ifood_case.silver.yellow_trip\")\n",
    "    data_analysis = DataAnalysis(\n",
    "        logger=logger,\n",
    "        df=df,\n",
    "        column_group_by=\"partition\",\n",
    "        column_year_month=\"partition\",\n",
    "        value_year_month=\"2023-05\",\n",
    "        column_date_hour=\"tpep_pickup_datetime\",\n",
    "    )\n",
    "\n",
    "    df_media_valor_mensal = data_analysis.mediaValorMensal()\n",
    "\n",
    "    save_data_mensal = SaveData(\n",
    "        logger=logger,\n",
    "        spark=spark,\n",
    "        df=df_media_valor_mensal,\n",
    "        layer=\"gold\",\n",
    "        table=\"media_valor_mensal\",\n",
    "        mode_save=\"overwite\",\n",
    "        format_save=\"delta\",\n",
    "    )\n",
    "\n",
    "    save_data_mensal.saveData()\n",
    "\n",
    "    df_media_passageiros_hora = data_analysis.mediaPassageirosHora()\n",
    "\n",
    "    save_data_passageiro = SaveData(\n",
    "        logger=logger,\n",
    "        spark=spark,\n",
    "        df=df_media_passageiros_hora,\n",
    "        layer=\"gold\",\n",
    "        table=\"media_passageiros_hora\",\n",
    "        mode_save=\"overwite\",\n",
    "        format_save=\"delta\",\n",
    "    )\n",
    "\n",
    "    save_data_passageiro.saveData()\n",
    "\n",
    "\n",
    "if __name__ == \"__main__\":\n",
    "    logger = logging.getLogger(\"silver\")\n",
    "    logging.basicConfig(\n",
    "        level=logging.INFO, format=\"%(asctime)s [%(levelname)s] %(name)s - %(message)s\"\n",
    "    )\n",
    "\n",
    "    job(logger)"
   ]
  },
  {
   "cell_type": "code",
   "execution_count": 0,
   "metadata": {
    "application/vnd.databricks.v1+cell": {
     "cellMetadata": {
      "byteLimit": 2048000,
      "rowLimit": 10000
     },
     "inputWidgets": {},
     "nuid": "ab95f997-4822-4754-a867-2f912e4249b7",
     "showTitle": false,
     "tableResultSettingsMap": {},
     "title": ""
    }
   },
   "outputs": [],
   "source": []
  }
 ],
 "metadata": {
  "application/vnd.databricks.v1+notebook": {
   "computePreferences": null,
   "dashboards": [],
   "environmentMetadata": {
    "base_environment": "",
    "environment_version": "2"
   },
   "inputWidgetPreferences": null,
   "language": "python",
   "notebookMetadata": {
    "pythonIndentUnit": 2
   },
   "notebookName": "etl_gold",
   "widgets": {}
  },
  "language_info": {
   "name": "python"
  }
 },
 "nbformat": 4,
 "nbformat_minor": 0
}

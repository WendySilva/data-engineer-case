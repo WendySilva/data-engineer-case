{
 "cells": [
  {
   "cell_type": "code",
   "execution_count": 0,
   "metadata": {
    "application/vnd.databricks.v1+cell": {
     "cellMetadata": {
      "byteLimit": 2048000,
      "rowLimit": 10000
     },
     "inputWidgets": {},
     "nuid": "73ba3d40-e473-43fa-890a-76558fb99d12",
     "showTitle": false,
     "tableResultSettingsMap": {},
     "title": ""
    }
   },
   "outputs": [],
   "source": [
    "import logging\n",
    "from src.data_transformers import DataTransformers\n",
    "from src.save_data import SaveData\n",
    "\n",
    "\n",
    "def job(logger):\n",
    "    select_list = [ \"VendorID\", \"passenger_count\", \"total_amount\", \"tpep_pickup_datetime\", \"tpep_dropoff_datetime\"]\n",
    "    df = spark.table('ifood_case.bronze.yellow_trip')\n",
    "    transformacao_silver = DataTransformers(\n",
    "        logger=logger,\n",
    "        df_spark=df,\n",
    "        column_select=select_list,\n",
    "        partition='tpep_pickup_datetime'       \n",
    "    )\n",
    "    df_silver = transformacao_silver.select_expr_daframe_spark()\n",
    "\n",
    "    save_silver = SaveData(\n",
    "        spark=spark,\n",
    "        df=df,\n",
    "        layer='silver',\n",
    "        table='yellow_trip',\n",
    "        mode_save='append',\n",
    "        format_save='delta',\n",
    "        partition='partitionn'\n",
    "    )\n",
    "\n",
    "    save_silver.saveData()\n",
    "\n",
    "\n",
    "if __name__ == \"__main__\":\n",
    "    logger = logging.getLogger(\"silver\")\n",
    "    logging.basicConfig(\n",
    "        level=logging.INFO,\n",
    "        format=\"%(asctime)s [%(levelname)s] %(name)s - %(message)s\"\n",
    "    )\n",
    "\n",
    "    job(logger)"
   ]
  },
  {
   "cell_type": "code",
   "execution_count": 0,
   "metadata": {
    "application/vnd.databricks.v1+cell": {
     "cellMetadata": {
      "byteLimit": 2048000,
      "rowLimit": 10000
     },
     "inputWidgets": {},
     "nuid": "ab95f997-4822-4754-a867-2f912e4249b7",
     "showTitle": false,
     "tableResultSettingsMap": {},
     "title": ""
    }
   },
   "outputs": [],
   "source": []
  }
 ],
 "metadata": {
  "application/vnd.databricks.v1+notebook": {
   "computePreferences": null,
   "dashboards": [],
   "environmentMetadata": {
    "base_environment": "",
    "environment_version": "2"
   },
   "inputWidgetPreferences": null,
   "language": "python",
   "notebookMetadata": {
    "pythonIndentUnit": 2
   },
   "notebookName": "etl_silver",
   "widgets": {}
  },
  "language_info": {
   "name": "python"
  }
 },
 "nbformat": 4,
 "nbformat_minor": 0
}

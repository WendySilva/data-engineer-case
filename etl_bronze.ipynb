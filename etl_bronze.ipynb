{
 "cells": [
  {
   "cell_type": "code",
   "execution_count": 0,
   "metadata": {
    "application/vnd.databricks.v1+cell": {
     "cellMetadata": {
      "byteLimit": 2048000,
      "rowLimit": 10000
     },
     "inputWidgets": {},
     "nuid": "d7cc1560-a5f6-4824-8587-4c4bf633fd6d",
     "showTitle": false,
     "tableResultSettingsMap": {},
     "title": ""
    }
   },
   "outputs": [],
   "source": [
    "pip install -r requirements.txt"
   ]
  },
  {
   "cell_type": "code",
   "execution_count": 0,
   "metadata": {
    "application/vnd.databricks.v1+cell": {
     "cellMetadata": {
      "byteLimit": 2048000,
      "rowLimit": 10000
     },
     "inputWidgets": {},
     "nuid": "73ba3d40-e473-43fa-890a-76558fb99d12",
     "showTitle": false,
     "tableResultSettingsMap": {},
     "title": ""
    }
   },
   "outputs": [],
   "source": [
    "import logging\n",
    "from src.data_requests import DataRequests\n",
    "from src.data_transformers import DataTransformers\n",
    "from src.save_data import SaveData\n",
    "\n",
    "\n",
    "def job(logger):\n",
    "    ano = '2023'\n",
    "    for mes in [\"01\", \"02\", \"03\", \"04\", \"05\", \"06\", \"07\"]:\n",
    "        url = f\"https://d37ci6vzurychx.cloudfront.net/trip-data/yellow_tripdata_{ano}-{mes}.parquet\"\n",
    "        requisicao = DataRequests(url=url, logger=logger)\n",
    "        response = (requisicao.get_response())\n",
    "        if not response:\n",
    "            logger.warning(f\"Não foi possível baixar os dados de {ano}-{mes}\")\n",
    "            continue\n",
    "\n",
    "        save_bronze = SaveData(\n",
    "            logger=logger,\n",
    "            spark=spark,\n",
    "            layer=\"bronze\",\n",
    "            table=\"yellow_trip\",\n",
    "            mode_save=\"append\",\n",
    "            response=response,\n",
    "            ano=ano,\n",
    "            mes=mes\n",
    "        )\n",
    "\n",
    "        save_bronze.saveData()\n",
    "\n",
    "        \n",
    "\n",
    "\n",
    "if __name__ == \"__main__\":\n",
    "    logger = logging.getLogger(\"bronze\")\n",
    "    logging.basicConfig(\n",
    "        level=logging.INFO, format=\"%(asctime)s [%(levelname)s] %(name)s - %(message)s\"\n",
    "    )\n",
    "\n",
    "    job(logger)"
   ]
  },
  {
   "cell_type": "code",
   "execution_count": 0,
   "metadata": {
    "application/vnd.databricks.v1+cell": {
     "cellMetadata": {},
     "inputWidgets": {},
     "nuid": "9a11d279-4888-4d6f-b4c1-8e42e31968fa",
     "showTitle": false,
     "tableResultSettingsMap": {},
     "title": ""
    }
   },
   "outputs": [],
   "source": []
  }
 ],
 "metadata": {
  "application/vnd.databricks.v1+notebook": {
   "computePreferences": null,
   "dashboards": [],
   "environmentMetadata": {
    "base_environment": "",
    "environment_version": "2"
   },
   "inputWidgetPreferences": null,
   "language": "python",
   "notebookMetadata": {
    "pythonIndentUnit": 2
   },
   "notebookName": "etl_bronze",
   "widgets": {}
  },
  "language_info": {
   "name": "python"
  }
 },
 "nbformat": 4,
 "nbformat_minor": 0
}

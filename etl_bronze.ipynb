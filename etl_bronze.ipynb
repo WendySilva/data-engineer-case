{
 "cells": [
  {
   "cell_type": "code",
   "execution_count": 0,
   "metadata": {
    "application/vnd.databricks.v1+cell": {
     "cellMetadata": {
      "byteLimit": 2048000,
      "rowLimit": 10000
     },
     "inputWidgets": {},
     "nuid": "73ba3d40-e473-43fa-890a-76558fb99d12",
     "showTitle": false,
     "tableResultSettingsMap": {},
     "title": ""
    }
   },
   "outputs": [],
   "source": [
    "import logging\n",
    "from src.data_requests import DataRequests\n",
    "from src.data_transformers import DataTransformers\n",
    "from src.save_data import SaveData\n",
    "\n",
    "\n",
    "def job(logger):\n",
    "    buffers = []\n",
    "    for mes in [\"01\", \"02\", \"03\", \"04\", \"05\"]:\n",
    "        url = f\"https://d37ci6vzurychx.cloudfront.net/trip-data/yellow_tripdata_2023-{mes}.parquet\"\n",
    "        requisicao = DataRequests(url=url, logger=logger)\n",
    "        buffers.append(requisicao.get_response())\n",
    "\n",
    "    transformacao = DataTransformers(\n",
    "        logger=logger, spark=spark, responses=buffers, partition=\"tpep_pickup_datetime\"\n",
    "    )\n",
    "\n",
    "    df_bronze = transformacao.create_dataframe_spark()\n",
    "\n",
    "    save_bronze = SaveData(\n",
    "        logger=logger,\n",
    "        spark=spark,\n",
    "        df=df_bronze,\n",
    "        layer=\"bronze\",\n",
    "        table=\"yellow_trip\",\n",
    "        mode_save=\"overwrite\",\n",
    "        format_save=\"delta\",\n",
    "        partition=\"partition\",\n",
    "    )\n",
    "\n",
    "    save_bronze.saveData()\n",
    "\n",
    "\n",
    "if __name__ == \"__main__\":\n",
    "    logger = logging.getLogger(\"silver\")\n",
    "    logging.basicConfig(\n",
    "        level=logging.INFO, format=\"%(asctime)s [%(levelname)s] %(name)s - %(message)s\"\n",
    "    )\n",
    "\n",
    "    job(logger)"
   ]
  },
  {
   "cell_type": "code",
   "execution_count": 0,
   "metadata": {
    "application/vnd.databricks.v1+cell": {
     "cellMetadata": {
      "byteLimit": 2048000,
      "rowLimit": 10000
     },
     "inputWidgets": {},
     "nuid": "ab95f997-4822-4754-a867-2f912e4249b7",
     "showTitle": false,
     "tableResultSettingsMap": {},
     "title": ""
    }
   },
   "outputs": [],
   "source": []
  }
 ],
 "metadata": {
  "application/vnd.databricks.v1+notebook": {
   "computePreferences": null,
   "dashboards": [],
   "environmentMetadata": {
    "base_environment": "",
    "environment_version": "2"
   },
   "inputWidgetPreferences": null,
   "language": "python",
   "notebookMetadata": {
    "pythonIndentUnit": 2
   },
   "notebookName": "etl_bronze",
   "widgets": {}
  },
  "language_info": {
   "name": "python"
  }
 },
 "nbformat": 4,
 "nbformat_minor": 0
}
